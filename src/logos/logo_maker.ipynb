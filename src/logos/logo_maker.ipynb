{
 "metadata": {
  "language_info": {
   "codemirror_mode": {
    "name": "ipython",
    "version": 3
   },
   "file_extension": ".py",
   "mimetype": "text/x-python",
   "name": "python",
   "nbconvert_exporter": "python",
   "pygments_lexer": "ipython3",
   "version": "3.7.7-final"
  },
  "orig_nbformat": 2,
  "kernelspec": {
   "name": "python3",
   "display_name": "Python 3",
   "language": "python"
  }
 },
 "nbformat": 4,
 "nbformat_minor": 2,
 "cells": [
  {
   "cell_type": "code",
   "execution_count": 1,
   "metadata": {},
   "outputs": [],
   "source": [
    "import numpy as np\n",
    "from skimage.transform import resize\n",
    "from skimage.io import imread, imsave\n",
    "\n",
    "path = '/Users/mlombard/Desktop/'\n",
    "target_dims = (60, 100)"
   ]
  },
  {
   "cell_type": "code",
   "execution_count": 18,
   "metadata": {},
   "outputs": [],
   "source": [
    "img = imread(path + 'wise_logo_sm.png')\n",
    "factor = np.min([target_dims[0] / img.shape[0], target_dims[1] / img.shape[1]])\n",
    "final_dims = (int(np.round(img.shape[0] * factor)), int(np.round(img.shape[1] * factor)))\n",
    "shifts = ((target_dims[0] - final_dims[0]) // 2, (target_dims[1] - final_dims[1]) // 2)\n",
    "new_img = resize(img, final_dims, anti_aliasing=True, preserve_range=True).astype(np.uint8)\n",
    "final_img = np.zeros((target_dims[0], target_dims[1], new_img.shape[2]), dtype=new_img.dtype) + 255\n",
    "if final_img.shape[2] == 4:\n",
    "    final_img[:, :, 3] = 0\n",
    "final_img[shifts[0]:shifts[0] + final_dims[0], shifts[1]:shifts[1] + final_dims[1]] = new_img\n",
    "imsave('WISE.png', final_img)"
   ]
  },
  {
   "cell_type": "code",
   "execution_count": 19,
   "metadata": {},
   "outputs": [
    {
     "output_type": "execute_result",
     "data": {
      "text/plain": [
       "(60, 100, 4)"
      ]
     },
     "metadata": {},
     "execution_count": 19
    }
   ],
   "source": [
    "final_img.shape"
   ]
  },
  {
   "cell_type": "code",
   "execution_count": 12,
   "metadata": {},
   "outputs": [
    {
     "output_type": "stream",
     "text": [
      "\u001b[0;31mSignature:\u001b[0m\n",
      "\u001b[0mresize\u001b[0m\u001b[0;34m(\u001b[0m\u001b[0;34m\u001b[0m\n",
      "\u001b[0;34m\u001b[0m    \u001b[0mimage\u001b[0m\u001b[0;34m,\u001b[0m\u001b[0;34m\u001b[0m\n",
      "\u001b[0;34m\u001b[0m    \u001b[0moutput_shape\u001b[0m\u001b[0;34m,\u001b[0m\u001b[0;34m\u001b[0m\n",
      "\u001b[0;34m\u001b[0m    \u001b[0morder\u001b[0m\u001b[0;34m=\u001b[0m\u001b[0;36m1\u001b[0m\u001b[0;34m,\u001b[0m\u001b[0;34m\u001b[0m\n",
      "\u001b[0;34m\u001b[0m    \u001b[0mmode\u001b[0m\u001b[0;34m=\u001b[0m\u001b[0;34m'reflect'\u001b[0m\u001b[0;34m,\u001b[0m\u001b[0;34m\u001b[0m\n",
      "\u001b[0;34m\u001b[0m    \u001b[0mcval\u001b[0m\u001b[0;34m=\u001b[0m\u001b[0;36m0\u001b[0m\u001b[0;34m,\u001b[0m\u001b[0;34m\u001b[0m\n",
      "\u001b[0;34m\u001b[0m    \u001b[0mclip\u001b[0m\u001b[0;34m=\u001b[0m\u001b[0;32mTrue\u001b[0m\u001b[0;34m,\u001b[0m\u001b[0;34m\u001b[0m\n",
      "\u001b[0;34m\u001b[0m    \u001b[0mpreserve_range\u001b[0m\u001b[0;34m=\u001b[0m\u001b[0;32mFalse\u001b[0m\u001b[0;34m,\u001b[0m\u001b[0;34m\u001b[0m\n",
      "\u001b[0;34m\u001b[0m    \u001b[0manti_aliasing\u001b[0m\u001b[0;34m=\u001b[0m\u001b[0;32mTrue\u001b[0m\u001b[0;34m,\u001b[0m\u001b[0;34m\u001b[0m\n",
      "\u001b[0;34m\u001b[0m    \u001b[0manti_aliasing_sigma\u001b[0m\u001b[0;34m=\u001b[0m\u001b[0;32mNone\u001b[0m\u001b[0;34m,\u001b[0m\u001b[0;34m\u001b[0m\n",
      "\u001b[0;34m\u001b[0m\u001b[0;34m)\u001b[0m\u001b[0;34m\u001b[0m\u001b[0;34m\u001b[0m\u001b[0m\n",
      "\u001b[0;31mDocstring:\u001b[0m\n",
      "Resize image to match a certain size.\n",
      "\n",
      "Performs interpolation to up-size or down-size N-dimensional images. Note\n",
      "that anti-aliasing should be enabled when down-sizing images to avoid\n",
      "aliasing artifacts. For down-sampling with an integer factor also see\n",
      "`skimage.transform.downscale_local_mean`.\n",
      "\n",
      "Parameters\n",
      "----------\n",
      "image : ndarray\n",
      "    Input image.\n",
      "output_shape : tuple or ndarray\n",
      "    Size of the generated output image `(rows, cols[, ...][, dim])`. If\n",
      "    `dim` is not provided, the number of channels is preserved. In case the\n",
      "    number of input channels does not equal the number of output channels a\n",
      "    n-dimensional interpolation is applied.\n",
      "\n",
      "Returns\n",
      "-------\n",
      "resized : ndarray\n",
      "    Resized version of the input.\n",
      "\n",
      "Other parameters\n",
      "----------------\n",
      "order : int, optional\n",
      "    The order of the spline interpolation, default is 1. The order has to\n",
      "    be in the range 0-5. See `skimage.transform.warp` for detail.\n",
      "mode : {'constant', 'edge', 'symmetric', 'reflect', 'wrap'}, optional\n",
      "    Points outside the boundaries of the input are filled according\n",
      "    to the given mode.  Modes match the behaviour of `numpy.pad`.\n",
      "cval : float, optional\n",
      "    Used in conjunction with mode 'constant', the value outside\n",
      "    the image boundaries.\n",
      "clip : bool, optional\n",
      "    Whether to clip the output to the range of values of the input image.\n",
      "    This is enabled by default, since higher order interpolation may\n",
      "    produce values outside the given input range.\n",
      "preserve_range : bool, optional\n",
      "    Whether to keep the original range of values. Otherwise, the input\n",
      "    image is converted according to the conventions of `img_as_float`.\n",
      "    Also see https://scikit-image.org/docs/dev/user_guide/data_types.html\n",
      "anti_aliasing : bool, optional\n",
      "    Whether to apply a Gaussian filter to smooth the image prior to\n",
      "    down-scaling. It is crucial to filter when down-sampling the image to\n",
      "    avoid aliasing artifacts.\n",
      "anti_aliasing_sigma : {float, tuple of floats}, optional\n",
      "    Standard deviation for Gaussian filtering to avoid aliasing artifacts.\n",
      "    By default, this value is chosen as (s - 1) / 2 where s is the\n",
      "    down-scaling factor, where s > 1. For the up-size case, s < 1, no\n",
      "    anti-aliasing is performed prior to rescaling.\n",
      "\n",
      "Notes\n",
      "-----\n",
      "Modes 'reflect' and 'symmetric' are similar, but differ in whether the edge\n",
      "pixels are duplicated during the reflection.  As an example, if an array\n",
      "has values [0, 1, 2] and was padded to the right by four values using\n",
      "symmetric, the result would be [0, 1, 2, 2, 1, 0, 0], while for reflect it\n",
      "would be [0, 1, 2, 1, 0, 1, 2].\n",
      "\n",
      "Examples\n",
      "--------\n",
      ">>> from skimage import data\n",
      ">>> from skimage.transform import resize\n",
      ">>> image = data.camera()\n",
      ">>> resize(image, (100, 100)).shape\n",
      "(100, 100)\n",
      "\u001b[0;31mFile:\u001b[0m      /Applications/anaconda3/lib/python3.7/site-packages/skimage/transform/_warps.py\n",
      "\u001b[0;31mType:\u001b[0m      function\n"
     ],
     "name": "stdout"
    }
   ],
   "source": [
    "resize?"
   ]
  },
  {
   "cell_type": "code",
   "execution_count": null,
   "metadata": {},
   "outputs": [],
   "source": []
  }
 ]
}